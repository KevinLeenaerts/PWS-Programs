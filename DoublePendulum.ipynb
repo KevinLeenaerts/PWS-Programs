{
 "cells": [
  {
   "cell_type": "code",
   "execution_count": 2,
   "metadata": {},
   "outputs": [],
   "source": [
    "import sympy as smp"
   ]
  },
  {
   "cell_type": "markdown",
   "metadata": {},
   "source": [
    "Voeg de juiste symbolen toe:"
   ]
  },
  {
   "cell_type": "code",
   "execution_count": 3,
   "metadata": {},
   "outputs": [],
   "source": [
    "t, g, m1,  m2, l1, l2 = smp.symbols('t, g, m1, m2, l1, l2')\n",
    "\n",
    "theta1, theta2 = smp.symbols(r'\\theta_1, \\theta_2', cls=smp.Function)\n",
    "theta1 = theta1(t)\n",
    "theta2 = theta2(t)\n",
    "\n",
    "theta1_dot = smp.diff(theta1, t)\n",
    "theta2_dot = smp.diff(theta2, t)\n",
    "theta1_ddot = smp.diff(theta1_dot, t)\n",
    "theta2_ddot = smp.diff(theta2_dot, t)"
   ]
  },
  {
   "cell_type": "markdown",
   "metadata": {},
   "source": [
    "Definieer beide vergelijkingen uit het stelsel:"
   ]
  },
  {
   "cell_type": "code",
   "execution_count": 4,
   "metadata": {},
   "outputs": [
    {
     "data": {
      "text/latex": [
       "$\\displaystyle g \\left(m_{1} + m_{2}\\right) \\sin{\\left(\\theta_{1}{\\left(t \\right)} \\right)} + l_{1} \\left(m_{1} + m_{2}\\right) \\frac{d^{2}}{d t^{2}} \\theta_{1}{\\left(t \\right)} + l_{2} m_{2} \\sin{\\left(\\theta_{1}{\\left(t \\right)} - \\theta_{2}{\\left(t \\right)} \\right)} \\left(\\frac{d}{d t} \\theta_{2}{\\left(t \\right)}\\right)^{2} + l_{2} m_{2} \\cos{\\left(\\theta_{1}{\\left(t \\right)} - \\theta_{2}{\\left(t \\right)} \\right)} \\frac{d^{2}}{d t^{2}} \\theta_{2}{\\left(t \\right)}$"
      ],
      "text/plain": [
       "g*(m1 + m2)*sin(\\theta_1(t)) + l1*(m1 + m2)*Derivative(\\theta_1(t), (t, 2)) + l2*m2*sin(\\theta_1(t) - \\theta_2(t))*Derivative(\\theta_2(t), t)**2 + l2*m2*cos(\\theta_1(t) - \\theta_2(t))*Derivative(\\theta_2(t), (t, 2))"
      ]
     },
     "metadata": {},
     "output_type": "display_data"
    },
    {
     "data": {
      "text/latex": [
       "$\\displaystyle g \\sin{\\left(\\theta_{2}{\\left(t \\right)} \\right)} - l_{1} \\sin{\\left(\\theta_{1}{\\left(t \\right)} - \\theta_{2}{\\left(t \\right)} \\right)} \\left(\\frac{d}{d t} \\theta_{1}{\\left(t \\right)}\\right)^{2} + l_{1} \\cos{\\left(\\theta_{1}{\\left(t \\right)} - \\theta_{2}{\\left(t \\right)} \\right)} \\frac{d^{2}}{d t^{2}} \\theta_{1}{\\left(t \\right)} + l_{2} \\frac{d^{2}}{d t^{2}} \\theta_{2}{\\left(t \\right)}$"
      ],
      "text/plain": [
       "g*sin(\\theta_2(t)) - l1*sin(\\theta_1(t) - \\theta_2(t))*Derivative(\\theta_1(t), t)**2 + l1*cos(\\theta_1(t) - \\theta_2(t))*Derivative(\\theta_1(t), (t, 2)) + l2*Derivative(\\theta_2(t), (t, 2))"
      ]
     },
     "metadata": {},
     "output_type": "display_data"
    }
   ],
   "source": [
    "L1 = l1 * theta1_ddot * (m1 + m2) + m2 * l2 * theta2_ddot * smp.cos(theta1 - theta2) + g * smp.sin(theta1) * (m1 + m2) + m2 * l2 * smp.Pow(theta2_dot, 2) * smp.sin(theta1 - theta2)\n",
    "L2 = l1 * theta1_ddot * smp.cos(theta1 - theta2) + l2 * theta2_ddot +g * smp.sin(theta2) - l1 * smp.Pow(theta1_dot, 2) * smp.sin(theta1 - theta2)\n",
    "\n",
    "display(L1, L2)\n"
   ]
  },
  {
   "cell_type": "markdown",
   "metadata": {},
   "source": [
    "Los de vergelijkingen op en laat zien:"
   ]
  },
  {
   "cell_type": "code",
   "execution_count": 12,
   "metadata": {},
   "outputs": [
    {
     "ename": "NameError",
     "evalue": "name 'trigsimp' is not defined",
     "output_type": "error",
     "traceback": [
      "\u001b[1;31m---------------------------------------------------------------------------\u001b[0m",
      "\u001b[1;31mNameError\u001b[0m                                 Traceback (most recent call last)",
      "\u001b[1;32mc:\\Users\\Kevin\\Desktop\\PWS - Programs\\DoublePendulum.ipynb Cell 7\u001b[0m line \u001b[0;36m2\n\u001b[0;32m      <a href='vscode-notebook-cell:/c%3A/Users/Kevin/Desktop/PWS%20-%20Programs/DoublePendulum.ipynb#W6sZmlsZQ%3D%3D?line=0'>1</a>\u001b[0m solutions \u001b[39m=\u001b[39m smp\u001b[39m.\u001b[39msolve([L1, L2], (theta1_ddot, theta2_ddot), simplify\u001b[39m=\u001b[39m\u001b[39mTrue\u001b[39;00m)\n\u001b[1;32m----> <a href='vscode-notebook-cell:/c%3A/Users/Kevin/Desktop/PWS%20-%20Programs/DoublePendulum.ipynb#W6sZmlsZQ%3D%3D?line=1'>2</a>\u001b[0m sol1 \u001b[39m=\u001b[39m trigsimp(solutions[theta1_ddot])\n\u001b[0;32m      <a href='vscode-notebook-cell:/c%3A/Users/Kevin/Desktop/PWS%20-%20Programs/DoublePendulum.ipynb#W6sZmlsZQ%3D%3D?line=2'>3</a>\u001b[0m sol2 \u001b[39m=\u001b[39m solutions[theta1_ddot]\n\u001b[0;32m      <a href='vscode-notebook-cell:/c%3A/Users/Kevin/Desktop/PWS%20-%20Programs/DoublePendulum.ipynb#W6sZmlsZQ%3D%3D?line=4'>5</a>\u001b[0m display(smp\u001b[39m.\u001b[39mEq(theta1_ddot, sol1), smp\u001b[39m.\u001b[39mEq(theta2_ddot, sol2))\n",
      "\u001b[1;31mNameError\u001b[0m: name 'trigsimp' is not defined"
     ]
    }
   ],
   "source": [
    "solutions = smp.solve([L1, L2], (theta1_ddot, theta2_ddot), simplify=True)\n",
    "sol1 = trigsimp(solutions[theta1_ddot])\n",
    "sol2 = solutions[theta1_ddot]\n",
    "\n",
    "display(smp.Eq(theta1_ddot, sol1), smp.Eq(theta2_ddot, sol2))"
   ]
  }
 ],
 "metadata": {
  "kernelspec": {
   "display_name": "Python 3 (ipykernel)",
   "language": "python",
   "name": "python3"
  },
  "language_info": {
   "codemirror_mode": {
    "name": "ipython",
    "version": 3
   },
   "file_extension": ".py",
   "mimetype": "text/x-python",
   "name": "python",
   "nbconvert_exporter": "python",
   "pygments_lexer": "ipython3",
   "version": "3.12.0"
  }
 },
 "nbformat": 4,
 "nbformat_minor": 2
}
