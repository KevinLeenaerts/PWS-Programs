{
 "cells": [
  {
   "cell_type": "markdown",
   "metadata": {},
   "source": [
    "Importeer libraries:"
   ]
  },
  {
   "cell_type": "code",
   "execution_count": null,
   "metadata": {},
   "outputs": [],
   "source": [
    "import numpy as np\n",
    "from numpy import sin, cos\n",
    "import scipy\n",
    "from math import log\n",
    "import math\n",
    "import pandas as pd\n",
    "import seaborn as sns\n",
    "import matplotlib.pyplot as plt\n",
    "import time as clock\n",
    "import asyncio\n"
   ]
  },
  {
   "cell_type": "markdown",
   "metadata": {},
   "source": [
    "Definieer de constanten / configuratie:"
   ]
  },
  {
   "cell_type": "code",
   "execution_count": null,
   "metadata": {},
   "outputs": [],
   "source": [
    "G = 9.81\n",
    "t = [0, 1]"
   ]
  },
  {
   "cell_type": "markdown",
   "metadata": {},
   "source": [
    "Definieer de afgeleiden als een stelsel van 4 differentiaalvergelijkingen van de eerste order:"
   ]
  },
  {
   "cell_type": "code",
   "execution_count": null,
   "metadata": {},
   "outputs": [],
   "source": [
    "def derivs(state, t, m1, m2, l1, l2):\n",
    "    dydx = np.zeros_like(state)\n",
    "    \n",
    "    dydx[0] = state[1]\n",
    "\n",
    "    delta = state[2] - state[0]\n",
    "    den1 = (m1 + m2) * l1 - m2 * l1 * cos(delta) * cos(delta)\n",
    "    dydx[1] = ((m2 * l1 * state[1] * state[1] * sin(delta) * cos(delta)\n",
    "                + m2 * G * sin(state[2]) * cos(delta)\n",
    "                + m2 * l2 * state[3] * state[3] * sin(delta)\n",
    "                - (m1 + m2) * G * sin(state[0]))\n",
    "               / den1)\n",
    "\n",
    "    dydx[2] = state[3]\n",
    "\n",
    "    den2 = (l2 / l1) * den1\n",
    "    dydx[3] = ((- m2 * l2 * state[3] * state[3] * sin(delta) * cos(delta)\n",
    "                + (m1 + m2) * G * sin(state[0]) * cos(delta)\n",
    "                - (m1 + m2) * l1 * state[1] * state[1] * sin(delta)\n",
    "                - (m1 + m2) * G * sin(state[2]))\n",
    "               / den2)\n",
    "    \n",
    "    return dydx"
   ]
  },
  {
   "cell_type": "markdown",
   "metadata": {},
   "source": [
    "Definieer een functie voor het genereren van data vanuit de initiële waarden."
   ]
  },
  {
   "cell_type": "code",
   "execution_count": null,
   "metadata": {},
   "outputs": [],
   "source": [
    "def get_resulting_array(t, theta1, theta1_dot, theta2, theta2_dot, m1, m2, l1, l2):\n",
    "    state = [theta1, theta1_dot, theta2, theta2_dot]\n",
    "    results = scipy.integrate.odeint(lambda S, t : derivs(S, t, m1, m2, l1, l2), state, t)\n",
    "    return results"
   ]
  },
  {
   "cell_type": "markdown",
   "metadata": {},
   "source": []
  }
 ],
 "metadata": {
  "kernelspec": {
   "display_name": "Python 3 (ipykernel)",
   "language": "python",
   "name": "python3"
  },
  "language_info": {
   "codemirror_mode": {
    "name": "ipython",
    "version": 3
   },
   "file_extension": ".py",
   "mimetype": "text/x-python",
   "name": "python",
   "nbconvert_exporter": "python",
   "pygments_lexer": "ipython3",
   "version": "3.11.5"
  }
 },
 "nbformat": 4,
 "nbformat_minor": 2
}
