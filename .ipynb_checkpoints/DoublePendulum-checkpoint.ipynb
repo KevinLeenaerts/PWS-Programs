{
 "cells": [
  {
   "cell_type": "code",
   "execution_count": 12,
   "metadata": {},
   "outputs": [],
   "source": [
    "import sympy as smp"
   ]
  },
  {
   "cell_type": "markdown",
   "metadata": {},
   "source": [
    "Voeg de juiste symbolen toe:"
   ]
  },
  {
   "cell_type": "code",
   "execution_count": 13,
   "metadata": {},
   "outputs": [],
   "source": [
    "t, g, m1,  m2, l1, l2 = smp.symbols('t, g, m1, m2, l1, l2')\n",
    "\n",
    "theta1, theta2 = smp.symbols(r'\\theta_1, \\theta_2', cls=smp.Function)\n",
    "theta1 = theta1(t)\n",
    "theta2 = theta2(t)\n",
    "\n",
    "theta1_dot = smp.diff(theta1, t)\n",
    "theta2_dot = smp.diff(theta2, t)\n",
    "theta1_ddot = smp.diff(theta1_dot, t)\n",
    "theta2_ddot = smp.diff(theta2_dot, t)"
   ]
  },
  {
   "cell_type": "markdown",
   "metadata": {},
   "source": [
    "Definieer beide vergelijkingen uit het stelsel:"
   ]
  },
  {
   "cell_type": "code",
   "execution_count": 14,
   "metadata": {},
   "outputs": [],
   "source": [
    "L1 = smp.Eq(l1 * theta1_ddot * (m1 + m2) + m2 * l2 * theta2_ddot * smp.cos(theta1 - theta2), -g * smp.sin(theta1) * (m1 + m2) - m2 * l2 * smp.Pow(theta2_dot, 2) * smp.sin(theta1 - theta2))\n",
    "L2 = smp.Eq(m2 * l1 * theta1_ddot * smp.cos(theta1 - theta2) + m2 * l2 * theta2_ddot, -g * m2 * smp.sin(theta2) + m2 * l2 * smp.Pow(theta1_dot, 2) * smp.sin(theta1 - theta2))\n"
   ]
  },
  {
   "cell_type": "markdown",
   "metadata": {},
   "source": [
    "Los de vergelijkingen op en laat zien:"
   ]
  },
  {
   "cell_type": "code",
   "execution_count": null,
   "metadata": {},
   "outputs": [],
   "source": [
    "solutions = smp.solve([L1, L2], (theta1_ddot, theta2_ddot), simplify=True)\n",
    "display(smp.Eq(theta1_ddot, solutions[theta1_ddot]), smp.Eq(theta2_ddot, solutions[theta2_ddot]))"
   ]
  }
 ],
 "metadata": {
  "kernelspec": {
   "display_name": "Python 3 (ipykernel)",
   "language": "python",
   "name": "python3"
  },
  "language_info": {
   "codemirror_mode": {
    "name": "ipython",
    "version": 3
   },
   "file_extension": ".py",
   "mimetype": "text/x-python",
   "name": "python",
   "nbconvert_exporter": "python",
   "pygments_lexer": "ipython3",
   "version": "3.11.5"
  }
 },
 "nbformat": 4,
 "nbformat_minor": 2
}
