{
 "cells": [
  {
   "cell_type": "code",
   "execution_count": 75,
   "metadata": {},
   "outputs": [],
   "source": [
    "import sympy as smp"
   ]
  },
  {
   "cell_type": "markdown",
   "metadata": {},
   "source": [
    "Voeg de juiste symbolen toe:"
   ]
  },
  {
   "cell_type": "code",
   "execution_count": 76,
   "metadata": {},
   "outputs": [],
   "source": [
    "t, g, m1,  m2, l1, l2 = smp.symbols('t, g, m1, m2, l1, l2')\n",
    "\n",
    "theta1, theta2 = smp.symbols(r'\\theta_1, \\theta_2', cls=smp.Function)\n",
    "theta1 = theta1(t)\n",
    "theta2 = theta2(t)\n",
    "\n",
    "theta1_dot = smp.diff(theta1, t)\n",
    "theta2_dot = smp.diff(theta2, t)\n",
    "theta1_ddot = smp.diff(theta1_dot, t)\n",
    "theta2_ddot = smp.diff(theta2_dot, t)"
   ]
  },
  {
   "cell_type": "markdown",
   "metadata": {},
   "source": [
    "Definieer beide vergelijkingen uit het stelsel:"
   ]
  },
  {
   "cell_type": "code",
   "execution_count": 96,
   "metadata": {},
   "outputs": [
    {
     "data": {
      "text/latex": [
       "$\\displaystyle g \\left(m_{1} + m_{2}\\right) \\sin{\\left(\\theta_{1}{\\left(t \\right)} \\right)} + l_{1} \\left(m_{1} + m_{2}\\right) \\frac{d^{2}}{d t^{2}} \\theta_{1}{\\left(t \\right)} + l_{2} m_{2} \\sin{\\left(\\theta_{1}{\\left(t \\right)} - \\theta_{2}{\\left(t \\right)} \\right)} \\left(\\frac{d}{d t} \\theta_{2}{\\left(t \\right)}\\right)^{2} + l_{2} m_{2} \\cos{\\left(\\theta_{1}{\\left(t \\right)} - \\theta_{2}{\\left(t \\right)} \\right)} \\frac{d^{2}}{d t^{2}} \\theta_{2}{\\left(t \\right)}$"
      ],
      "text/plain": [
       "g*(m1 + m2)*sin(\\theta_1(t)) + l1*(m1 + m2)*Derivative(\\theta_1(t), (t, 2)) + l2*m2*sin(\\theta_1(t) - \\theta_2(t))*Derivative(\\theta_2(t), t)**2 + l2*m2*cos(\\theta_1(t) - \\theta_2(t))*Derivative(\\theta_2(t), (t, 2))"
      ]
     },
     "metadata": {},
     "output_type": "display_data"
    },
    {
     "data": {
      "text/latex": [
       "$\\displaystyle g m_{2} \\sin{\\left(\\theta_{2}{\\left(t \\right)} \\right)} - l_{1} m_{2} \\sin{\\left(\\theta_{1}{\\left(t \\right)} - \\theta_{2}{\\left(t \\right)} \\right)} \\left(\\frac{d}{d t} \\theta_{1}{\\left(t \\right)}\\right)^{2} + l_{1} m_{2} \\cos{\\left(\\theta_{1}{\\left(t \\right)} - \\theta_{2}{\\left(t \\right)} \\right)} \\frac{d^{2}}{d t^{2}} \\theta_{1}{\\left(t \\right)} + l_{2} m_{2} \\frac{d^{2}}{d t^{2}} \\theta_{2}{\\left(t \\right)}$"
      ],
      "text/plain": [
       "g*m2*sin(\\theta_2(t)) - l1*m2*sin(\\theta_1(t) - \\theta_2(t))*Derivative(\\theta_1(t), t)**2 + l1*m2*cos(\\theta_1(t) - \\theta_2(t))*Derivative(\\theta_1(t), (t, 2)) + l2*m2*Derivative(\\theta_2(t), (t, 2))"
      ]
     },
     "metadata": {},
     "output_type": "display_data"
    }
   ],
   "source": [
    "L1 = l1 * theta1_ddot * (m1 + m2) + m2 * l2 * theta2_ddot * smp.cos(theta1 - theta2) + g * smp.sin(theta1) * (m1 + m2) + m2 * l2 * smp.Pow(theta2_dot, 2) * smp.sin(theta1 - theta2)\n",
    "L2 = l1 * theta1_ddot * smp.cos(theta1 - theta2) + l2 * theta2_ddot + g * smp.sin(theta2) - l1 *smp.Pow(theta1_dot, 2) * smp.sin(theta1 - theta2)\n",
    "\n",
    "display(L1, L2)\n"
   ]
  },
  {
   "cell_type": "markdown",
   "metadata": {},
   "source": [
    "Los de vergelijkingen op en laat zien:"
   ]
  },
  {
   "cell_type": "code",
   "execution_count": 134,
   "metadata": {},
   "outputs": [
    {
     "data": {
      "text/latex": [
       "$\\displaystyle \\frac{d^{2}}{d t^{2}} \\theta_{1}{\\left(t \\right)} = \\frac{g m_{2} \\sin{\\left(\\theta_{2}{\\left(t \\right)} \\right)} \\cos{\\left(\\theta_{1}{\\left(t \\right)} - \\theta_{2}{\\left(t \\right)} \\right)} - g \\left(m_{1} + m_{2}\\right) \\sin{\\left(\\theta_{1}{\\left(t \\right)} \\right)} - 0.5 l_{1} m_{2} \\sin{\\left(2 \\theta_{1}{\\left(t \\right)} - 2 \\theta_{2}{\\left(t \\right)} \\right)} \\left(\\frac{d}{d t} \\theta_{1}{\\left(t \\right)}\\right)^{2} - l_{2} m_{2} \\sin{\\left(\\theta_{1}{\\left(t \\right)} - \\theta_{2}{\\left(t \\right)} \\right)} \\left(\\frac{d}{d t} \\theta_{2}{\\left(t \\right)}\\right)^{2}}{l_{1} \\left(m_{1} - m_{2} \\cos^{2}{\\left(\\theta_{1}{\\left(t \\right)} - \\theta_{2}{\\left(t \\right)} \\right)} + m_{2}\\right)}$"
      ],
      "text/plain": [
       "Eq(Derivative(\\theta_1(t), (t, 2)), (g*m2*sin(\\theta_2(t))*cos(\\theta_1(t) - \\theta_2(t)) - g*(m1 + m2)*sin(\\theta_1(t)) - 0.5*l1*m2*sin(2*\\theta_1(t) - 2*\\theta_2(t))*Derivative(\\theta_1(t), t)**2 - l2*m2*sin(\\theta_1(t) - \\theta_2(t))*Derivative(\\theta_2(t), t)**2)/(l1*(m1 - m2*cos(\\theta_1(t) - \\theta_2(t))**2 + m2)))"
      ]
     },
     "metadata": {},
     "output_type": "display_data"
    },
    {
     "data": {
      "text/latex": [
       "$\\displaystyle \\frac{d^{2}}{d t^{2}} \\theta_{2}{\\left(t \\right)} = \\frac{g \\left(m_{1} + m_{2}\\right) \\sin{\\left(\\theta_{1}{\\left(t \\right)} \\right)} \\cos{\\left(\\theta_{1}{\\left(t \\right)} - \\theta_{2}{\\left(t \\right)} \\right)} - g \\left(m_{1} + m_{2}\\right) \\sin{\\left(\\theta_{2}{\\left(t \\right)} \\right)} + l_{1} m_{1} \\sin{\\left(\\theta_{1}{\\left(t \\right)} - \\theta_{2}{\\left(t \\right)} \\right)} \\left(\\frac{d}{d t} \\theta_{1}{\\left(t \\right)}\\right)^{2} + l_{1} m_{2} \\sin{\\left(\\theta_{1}{\\left(t \\right)} - \\theta_{2}{\\left(t \\right)} \\right)} \\left(\\frac{d}{d t} \\theta_{1}{\\left(t \\right)}\\right)^{2} + 0.5 l_{2} m_{2} \\sin{\\left(2 \\theta_{1}{\\left(t \\right)} - 2 \\theta_{2}{\\left(t \\right)} \\right)} \\left(\\frac{d}{d t} \\theta_{2}{\\left(t \\right)}\\right)^{2}}{l_{2} \\left(m_{1} - m_{2} \\cos^{2}{\\left(\\theta_{1}{\\left(t \\right)} - \\theta_{2}{\\left(t \\right)} \\right)} + m_{2}\\right)}$"
      ],
      "text/plain": [
       "Eq(Derivative(\\theta_2(t), (t, 2)), (g*(m1 + m2)*sin(\\theta_1(t))*cos(\\theta_1(t) - \\theta_2(t)) - g*(m1 + m2)*sin(\\theta_2(t)) + l1*m1*sin(\\theta_1(t) - \\theta_2(t))*Derivative(\\theta_1(t), t)**2 + l1*m2*sin(\\theta_1(t) - \\theta_2(t))*Derivative(\\theta_1(t), t)**2 + 0.5*l2*m2*sin(2*\\theta_1(t) - 2*\\theta_2(t))*Derivative(\\theta_2(t), t)**2)/(l2*(m1 - m2*cos(\\theta_1(t) - \\theta_2(t))**2 + m2)))"
      ]
     },
     "metadata": {},
     "output_type": "display_data"
    }
   ],
   "source": [
    "solutions = smp.solve([L1, L2], (theta1_ddot, theta2_ddot), simplify=False)\n",
    "sol1 = smp.expand_trig(solutions[theta1_ddot]).collect(smp.cos(theta1)).collect(smp.sin(theta1)).collect(smp.cos(theta2)).collect(smp.sin(theta2)).simplify().evalf()\n",
    "sol2 = smp.expand_trig(solutions[theta2_ddot]).collect(smp.cos(theta1)).collect(smp.sin(theta1)).collect(smp.cos(theta2)).collect(smp.sin(theta2)).simplify().evalf()\n",
    "\n",
    "display(smp.Eq(theta1_ddot, sol1), smp.Eq(theta2_ddot, sol2))"
   ]
  }
 ],
 "metadata": {
  "kernelspec": {
   "display_name": "Python 3 (ipykernel)",
   "language": "python",
   "name": "python3"
  },
  "language_info": {
   "codemirror_mode": {
    "name": "ipython",
    "version": 3
   },
   "file_extension": ".py",
   "mimetype": "text/x-python",
   "name": "python",
   "nbconvert_exporter": "python",
   "pygments_lexer": "ipython3",
   "version": "3.12.0"
  }
 },
 "nbformat": 4,
 "nbformat_minor": 2
}
