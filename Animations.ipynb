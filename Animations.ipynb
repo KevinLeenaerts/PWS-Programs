{
 "cells": [
  {
   "cell_type": "markdown",
   "metadata": {},
   "source": [
    "# Definiëren van hulpfuncties\n"
   ]
  },
  {
   "cell_type": "markdown",
   "metadata": {},
   "source": [
    "Importeer libraries:"
   ]
  },
  {
   "cell_type": "code",
   "execution_count": 2,
   "metadata": {},
   "outputs": [],
   "source": [
    "import numpy as np\n",
    "from tqdm import tqdm\n",
    "from numpy import sin, cos\n",
    "import scipy\n",
    "from math import log\n",
    "import math\n",
    "import pandas as pd\n",
    "import seaborn as sns\n",
    "import matplotlib.pyplot as plt\n",
    "import time as clock\n",
    "import asyncio\n",
    "from matplotlib import animation\n",
    "from IPython.display import Video\n",
    "import time as system_time\n",
    "import seaborn as sns\n",
    "import os\n",
    "from scipy.ndimage import gaussian_filter\n",
    "from matplotlib.colors import LogNorm\n",
    "from matplotlib.ticker import StrMethodFormatter\n",
    "import locale"
   ]
  },
  {
   "cell_type": "markdown",
   "metadata": {},
   "source": [
    "Definieer de constanten / configuratie:"
   ]
  },
  {
   "cell_type": "code",
   "execution_count": 3,
   "metadata": {},
   "outputs": [],
   "source": [
    "G = 9.81\n",
    "sns.set_theme()\n",
    "locale.setlocale(locale.LC_NUMERIC, \"de_DE.UTF-8\")\n",
    "plt.rcParams['axes.formatter.use_locale'] = True"
   ]
  },
  {
   "cell_type": "markdown",
   "metadata": {},
   "source": [
    "Definieer de afgeleiden als een stelsel van 4 differentiaalvergelijkingen van de eerste order:"
   ]
  },
  {
   "cell_type": "code",
   "execution_count": 4,
   "metadata": {},
   "outputs": [],
   "source": [
    "def derivs(state, t, m1, m2, l1, l2):   \n",
    "    dydx = np.zeros_like(state)\n",
    "    dydx[0] = state[1]\n",
    "\n",
    "    delta = state[2] - state[0]\n",
    "    den1 = (m1 + m2) * l1 - m2 * l1 * cos(delta) * cos(delta)\n",
    "    dydx[1] = ((m2 * l1 * state[1] * state[1] * sin(delta) * cos(delta)\n",
    "                + m2 * G * sin(state[2]) * cos(delta)\n",
    "                + m2 * l2 * state[3] * state[3] * sin(delta)\n",
    "                - (m1 + m2) * G * sin(state[0]))\n",
    "               / den1)\n",
    "\n",
    "    dydx[2] = state[3]\n",
    "\n",
    "    den2 = (l2 / l1) * den1\n",
    "    dydx[3] = ((- m2 * l2 * state[3] * state[3] * sin(delta) * cos(delta)\n",
    "                + (m1 + m2) * G * sin(state[0]) * cos(delta)\n",
    "                - (m1 + m2) * l1 * state[1] * state[1] * sin(delta)\n",
    "                - (m1 + m2) * G * sin(state[2]))\n",
    "               / den2)\n",
    "    \n",
    "    return dydx"
   ]
  },
  {
   "cell_type": "markdown",
   "metadata": {},
   "source": [
    "Definieer een functie voor het genereren van data vanuit de initiële waarden:"
   ]
  },
  {
   "cell_type": "code",
   "execution_count": 5,
   "metadata": {},
   "outputs": [],
   "source": [
    "def get_resulting_array(t, theta1, theta1_dot, theta2, theta2_dot, m1, m2, l1, l2):\n",
    "    state = [theta1, theta1_dot, theta2, theta2_dot]\n",
    "    \n",
    "    results = scipy.integrate.odeint(lambda S, t : derivs(S, t, m1, m2, l1, l2), state, t)\n",
    "    return results"
   ]
  },
  {
   "cell_type": "markdown",
   "metadata": {},
   "source": [
    "Definieer een functie voor het omzetten van data naar cartesische coördinaten:"
   ]
  },
  {
   "cell_type": "code",
   "execution_count": 6,
   "metadata": {},
   "outputs": [],
   "source": [
    "def get_coordinates(results, l1, l2):\n",
    "    theta1 = results[:,0]\n",
    "    theta2 = results[:,2]\n",
    "    \n",
    "    return (\n",
    "        l1*np.sin(theta1),\n",
    "        -l1*np.cos(theta1),\n",
    "        l1*np.sin(theta1) + l2*np.sin(theta2),\n",
    "        -l1*np.cos(theta1) - l2*np.cos(theta2)\n",
    "    )"
   ]
  },
  {
   "cell_type": "markdown",
   "metadata": {},
   "source": [
    "Definieer en functie voor de afstanden tussen twee slingers:"
   ]
  },
  {
   "cell_type": "code",
   "execution_count": 7,
   "metadata": {},
   "outputs": [],
   "source": [
    "def get_differences(results1, results2):\n",
    "    return np.abs(np.subtract(results1, results2))"
   ]
  },
  {
   "cell_type": "markdown",
   "metadata": {},
   "source": [
    "Definieer een functie om de Lyapunov exponenten te berekenen uit twee resultaten:"
   ]
  },
  {
   "cell_type": "code",
   "execution_count": 8,
   "metadata": {},
   "outputs": [],
   "source": [
    "def get_lyapunov_values(t, differences):\n",
    "    thetha1_differences = differences[:, 0]\n",
    "    lyapunov = [0]\n",
    "    \n",
    "    for index, time in enumerate(t):\n",
    "        if (index == 0):\n",
    "            continue\n",
    "        exponent = (1 / time) * log(thetha1_differences[index] / thetha1_differences[0])\n",
    "        lyapunov.append(exponent)\n",
    "        \n",
    "    return lyapunov"
   ]
  },
  {
   "cell_type": "markdown",
   "metadata": {},
   "source": [
    "Maak een class om te helpen bij het loggen van laadtijden:"
   ]
  },
  {
   "cell_type": "code",
   "execution_count": 9,
   "metadata": {},
   "outputs": [],
   "source": [
    "class TimeLogger:\n",
    "    def __init__(self, total_frames, name):\n",
    "        self.total_frames = total_frames\n",
    "        self.name = name\n",
    "        self.current_frame = 0\n",
    "        self.last_result = 0\n",
    "        self.gain = 0.1\n",
    "        self.start_time = system_time.time()\n",
    "        \n",
    "    def update(self):\n",
    "        self.current_frame += 1\n",
    "        \n",
    "        now = system_time.time()\n",
    "        dt = now - self.start_time\n",
    "        self.start_time = now\n",
    "        \n",
    "        if (self.last_result == 0):\n",
    "            self.last_result = dt\n",
    "                \n",
    "        filtered_dt = self.gain * dt + (1 - self.gain) * self.last_result\n",
    "        self.last_result = filtered_dt\n",
    "            \n",
    "        frames_remaining = self.total_frames - self.current_frame\n",
    "        time_remaining = frames_remaining * filtered_dt\n",
    "        time_remaining_formatted = clock.strftime(\"%H:%M:%S\", clock.gmtime(time_remaining))\n",
    "        print(str(self.name) + \" completion: \" + (str(round(self.current_frame / self.total_frames * 1000) / 10)) + \"%, time remaining: \" + str(time_remaining_formatted), end='\\r')"
   ]
  },
  {
   "cell_type": "markdown",
   "metadata": {},
   "source": [
    "Class voor slinger tekenen:"
   ]
  },
  {
   "cell_type": "code",
   "execution_count": 10,
   "metadata": {},
   "outputs": [],
   "source": [
    "class Pendulum:\n",
    "    def __init__(self, ax, coordinates, pendulum_dist, color, zorder):\n",
    "        self.coordinates = coordinates\n",
    "        self.pendulum_dist = pendulum_dist\n",
    "        self.pendulum_line, = ax.plot([], [], color=color, zorder=zorder)\n",
    "        self.pendlum_point = ax.scatter([], [], color=color, zorder=zorder)\n",
    "        \n",
    "    def update(self, frame):\n",
    "        x1, y1, x2, y2 = self.coordinates\n",
    "        \n",
    "        self.pendulum_line.set_data([0 + self.pendulum_dist, x1[frame] + self.pendulum_dist, x2[frame] + self.pendulum_dist], [0, y1[frame], y2[frame]])\n",
    "        self.pendlum_point.set_offsets([[x1[frame] + self.pendulum_dist, y1[frame]], [x2[frame] + self.pendulum_dist, y2[frame]]])"
   ]
  },
  {
   "cell_type": "markdown",
   "metadata": {},
   "source": [
    "# Animaties"
   ]
  },
  {
   "cell_type": "markdown",
   "metadata": {},
   "source": [
    "Een slinger:"
   ]
  },
  {
   "cell_type": "code",
   "execution_count": 11,
   "metadata": {},
   "outputs": [
    {
     "name": "stdout",
     "output_type": "stream",
     "text": [
      "Frame animation completion: 0.2%, time remaining: 00:01:06\r"
     ]
    },
    {
     "name": "stdout",
     "output_type": "stream",
     "text": [
      "Frame animation completion: 100.1%, time remaining: 23:59:59\r"
     ]
    },
    {
     "data": {
      "text/html": [
       "<video src=\"output/one_pendulum.mp4\" controls  >\n",
       "      Your browser does not support the <code>video</code> element.\n",
       "    </video>"
      ],
      "text/plain": [
       "<IPython.core.display.Video object>"
      ]
     },
     "execution_count": 11,
     "metadata": {},
     "output_type": "execute_result"
    },
    {
     "name": "stdout",
     "output_type": "stream",
     "text": [
      "Frame animation completion: 100.1%, time remaining: 23:59:58\r"
     ]
    },
    {
     "data": {
      "image/png": "[encoded data removed]",
      "text/plain": [
       "<Figure size 400x400 with 1 Axes>"
      ]
     },
     "metadata": {},
     "output_type": "display_data"
    }
   ],
   "source": [
    "# Animatie configuratie\n",
    "t_end = 30\n",
    "FPS = 60\n",
    "t = np.arange(0, t_end, 1/FPS)\n",
    "trace_time = 1\n",
    "save_name = \"output/one_pendulum.mp4\"\n",
    "\n",
    "sns.reset_orig()\n",
    "\n",
    "# Slingers configuratie\n",
    "l1 = 2\n",
    "l2 = 1\n",
    "m1 = 2\n",
    "m2 = 1\n",
    "theta1 = 2\n",
    "theta2 = 2\n",
    "N = 1\n",
    "dtheta = 0.001\n",
    "\n",
    "pendulum_dist = 0\n",
    "\n",
    "fig, axs = plt.subplots(1, 1, figsize=(4, 4), gridspec_kw=dict(width_ratios=[4]))\n",
    "\n",
    "colormap = plt.cm.viridis #nipy_spectral, Set1,Paired   \n",
    "colors = [colormap(i) for i in np.linspace(0, 1, N)]\n",
    "\n",
    "coordinates = get_coordinates(get_resulting_array(t, theta1, 0, theta2, 0, m1, m2, l1, l2), l1, l2)\n",
    "Ncoordinates = len(coordinates)\n",
    "pendulum = Pendulum(axs, coordinates, pendulum_dist, colors[0], 0)\n",
    "\n",
    "pivot_point = axs.scatter([0], [0], color=\"black\", zorder=N+2)\n",
    "timeLogger = TimeLogger(len(t), \"Frame animation\")\n",
    "def animate(frame):\n",
    "    pivot_point.set_offsets([[0, 0]])\n",
    "    pendulum.update(frame)\n",
    "    timeLogger.update()\n",
    "\n",
    "axs.set_ylim([-4, 3])\n",
    "axs.set_xlim([-4, 4])\n",
    "axs.axis('off')\n",
    "axs.set_aspect('equal')\n",
    "    \n",
    "# Maak een animatie, sla hem op en laat hem zien\n",
    "ani = animation.FuncAnimation(fig, animate, frames=len(t), interval=1000/FPS)\n",
    "ani.save(save_name, dpi=1000, savefig_kwargs={\"transparent\": True})\n",
    "Video(save_name)"
   ]
  },
  {
   "cell_type": "markdown",
   "metadata": {},
   "source": [
    "Twee slingers zelfde gestart:\n"
   ]
  },
  {
   "cell_type": "code",
   "execution_count": 55,
   "metadata": {},
   "outputs": [
    {
     "name": "stdout",
     "output_type": "stream",
     "text": [
      "Frame animation completion: 100.1%, time remaining: 23:59:59\r"
     ]
    },
    {
     "data": {
      "text/html": [
       "<video src=\"output/two_pendulae_same.mp4\" controls  >\n",
       "      Your browser does not support the <code>video</code> element.\n",
       "    </video>"
      ],
      "text/plain": [
       "<IPython.core.display.Video object>"
      ]
     },
     "execution_count": 55,
     "metadata": {},
     "output_type": "execute_result"
    }
   ],
   "source": [
    "# Animatie configuratie\n",
    "t_end = 30\n",
    "FPS = 60\n",
    "t = np.arange(0, t_end, 1/FPS)\n",
    "trace_time = 1\n",
    "save_name = \"output/two_pendulae_same.mp4\"\n",
    "\n",
    "sns.reset_orig()\n",
    "\n",
    "# Slingers configuratie\n",
    "l1 = 2\n",
    "l2 = 1\n",
    "m1 = 2\n",
    "m2 = 1\n",
    "theta1 = 2\n",
    "theta2 = 2\n",
    "N = 1\n",
    "theta_range = 1e-2\n",
    "\n",
    "pendulum_dist = 8\n",
    "\n",
    "fig, axs = plt.subplots(1, 1, figsize=(4, 4), gridspec_kw=dict(width_ratios=[4]))\n",
    "\n",
    "colormap = plt.cm.viridis #nipy_spectral, Set1,Paired   \n",
    "colors = [colormap(i) for i in np.linspace(0, 1, N)]\n",
    "\n",
    "coordinates = get_coordinates(get_resulting_array(t, theta1, 0, theta2, 0, m1, m2, l1, l2), l1, l2)\n",
    "pendulum1 = Pendulum(axs, coordinates, 0, colors[0], 0)\n",
    "pendulum2 = Pendulum(axs, coordinates, pendulum_dist, colors[0], 0)\n",
    "\n",
    "pivot_point = axs.scatter([0, pendulum_dist], [0, 0], color=\"black\", zorder=N+2)\n",
    "timeLogger = TimeLogger(len(t), \"Frame animation\")\n",
    "def animate(frame):\n",
    "    pendulum1.update(frame)\n",
    "    pendulum2.update(frame)\n",
    "    timeLogger.update()\n",
    "\n",
    "axs.set_ylim([-4, 3])\n",
    "axs.set_xlim([-4, 4 + pendulum_dist])\n",
    "axs.axis('off')\n",
    "axs.set_aspect('equal')\n",
    "    \n",
    "# Maak een animatie, sla hem op en laat hem zien\n",
    "ani = animation.FuncAnimation(fig, animate, frames=len(t), interval=1000/FPS)\n",
    "ani.save(save_name, dpi=1000)\n",
    "Video(save_name)"
   ]
  },
  {
   "cell_type": "markdown",
   "metadata": {},
   "source": [
    "Twee slingers andere start:"
   ]
  },
  {
   "cell_type": "code",
   "execution_count": 56,
   "metadata": {},
   "outputs": [
    {
     "name": "stdout",
     "output_type": "stream",
     "text": [
      "Frame animation completion: 100.1%, time remaining: 23:59:59\r"
     ]
    },
    {
     "data": {
      "text/html": [
       "<video src=\"output/two_pendulae_different.mp4\" controls  >\n",
       "      Your browser does not support the <code>video</code> element.\n",
       "    </video>"
      ],
      "text/plain": [
       "<IPython.core.display.Video object>"
      ]
     },
     "execution_count": 56,
     "metadata": {},
     "output_type": "execute_result"
    }
   ],
   "source": [
    "# Animatie configuratie\n",
    "t_end = 30\n",
    "FPS = 60\n",
    "t = np.arange(0, t_end, 1/FPS)\n",
    "trace_time = 1\n",
    "save_name = \"output/two_pendulae_different.mp4\"\n",
    "\n",
    "sns.reset_orig()\n",
    "\n",
    "# Slingers configuratie\n",
    "l1 = 2\n",
    "l2 = 1\n",
    "m1 = 2\n",
    "m2 = 1\n",
    "theta1 = 2\n",
    "theta2 = 2\n",
    "N = 1\n",
    "dtheta = 0.001\n",
    "pendulum_dist = 8\n",
    "\n",
    "fig, axs = plt.subplots(1, 1, figsize=(4, 4), gridspec_kw=dict(width_ratios=[4]))\n",
    "\n",
    "colormap = plt.cm.viridis #nipy_spectral, Set1,Paired   \n",
    "colors = [colormap(i) for i in np.linspace(0, 1, N)]\n",
    "\n",
    "coordinates1 = get_coordinates(get_resulting_array(t, theta1, 0, theta2, 0, m1, m2, l1, l2), l1, l2)\n",
    "coordinates2 = get_coordinates(get_resulting_array(t, theta1 + dtheta, 0, theta2 + dtheta, 0, m1, m2, l1, l2), l1, l2)\n",
    "pendulum1 = Pendulum(axs, coordinates1, 0, colors[0], 0)\n",
    "pendulum2 = Pendulum(axs, coordinates2, pendulum_dist, colors[0], 0)\n",
    "\n",
    "pivot_point = axs.scatter([0, pendulum_dist], [0, 0], color=\"black\", zorder=N+2)\n",
    "timeLogger = TimeLogger(len(t), \"Frame animation\")\n",
    "def animate(frame):\n",
    "    pendulum1.update(frame)\n",
    "    pendulum2.update(frame)\n",
    "    timeLogger.update()\n",
    "\n",
    "axs.set_ylim([-4, 3])\n",
    "axs.set_xlim([-4, 4 + pendulum_dist])\n",
    "axs.axis('off')\n",
    "axs.set_aspect('equal')\n",
    "    \n",
    "# Maak een animatie, sla hem op en laat hem zien\n",
    "ani = animation.FuncAnimation(fig, animate, frames=len(t), interval=1000/FPS)\n",
    "ani.save(save_name, dpi=1000)\n",
    "Video(save_name)"
   ]
  },
  {
   "cell_type": "markdown",
   "metadata": {},
   "source": [
    "Regressie meerdere slingers:"
   ]
  },
  {
   "cell_type": "code",
   "execution_count": 63,
   "metadata": {},
   "outputs": [
    {
     "name": "stdout",
     "output_type": "stream",
     "text": [
      "Frame animation completion: 100.2%, time remaining: 23:59:13\r"
     ]
    },
    {
     "data": {
      "text/html": [
       "<video src=\"output/single_pendulum.mp4\" controls  >\n",
       "      Your browser does not support the <code>video</code> element.\n",
       "    </video>"
      ],
      "text/plain": [
       "<IPython.core.display.Video object>"
      ]
     },
     "execution_count": 63,
     "metadata": {},
     "output_type": "execute_result"
    }
   ],
   "source": [
    "# Animatie configuratie\n",
    "t_end = 20\n",
    "FPS = 30\n",
    "t = np.arange(0, t_end, 1/FPS)\n",
    "trace_time = 1\n",
    "save_name = \"output/pemdulum_many.mp4\"\n",
    "\n",
    "sns.reset_orig()\n",
    "\n",
    "# Slingers configuratie\n",
    "l1 = 2\n",
    "l2 = 1\n",
    "m1 = 2\n",
    "m2 = 1\n",
    "theta1 = 2\n",
    "theta2 = 2\n",
    "N = 10000\n",
    "theta_range = 1e-2\n",
    "\n",
    "pendulae = []\n",
    "fig = plt.figure()\n",
    "\n",
    "colormap = plt.cm.viridis #nipy_spectral, Set1,Paired   \n",
    "colors = [colormap(i) for i in np.linspace(0, 1, N)]\n",
    "\n",
    "\n",
    "for i in range(N):\n",
    "    coordinates = get_coordinates(get_resulting_array(t, theta1 + theta_range / N * i, 0, theta2 + theta_range / N * i, 0, m1, m2, l1, l2), l1, l2)\n",
    "    \n",
    "    pendulae.append(Pendulum(plt, coordinates, colors[i], i))\n",
    "    \n",
    "\n",
    "pivot_point = plt.scatter([0], [0], color=\"black\", zorder=N+2)\n",
    "timeLogger = TimeLogger(len(t), \"Frame animation\")\n",
    "def animate(frame):\n",
    "    pivot_point.set_offsets([[0, 0]])\n",
    "    \n",
    "    for i in range(N):\n",
    "        pendulae[i].update(frame)\n",
    "    \n",
    "    timeLogger.update()\n",
    "\n",
    "\n",
    "plt.ylim([-4, 3])\n",
    "plt.xlim([-4, 4])\n",
    "plt.axis('off')\n",
    "# Maak een animatie, sla hem op en laat hem zien\n",
    "ani = animation.FuncAnimation(fig, animate, frames=len(t), interval=1000/FPS)\n",
    "ani.save(save_name)\n",
    "Video(save_name)"
   ]
  }
 ],
 "metadata": {
  "kernelspec": {
   "display_name": "Python 3 (ipykernel)",
   "language": "python",
   "name": "python3"
  },
  "language_info": {
   "codemirror_mode": {
    "name": "ipython",
    "version": 3
   },
   "file_extension": ".py",
   "mimetype": "text/x-python",
   "name": "python",
   "nbconvert_exporter": "python",
   "pygments_lexer": "ipython3",
   "version": "3.12.0"
  }
 },
 "nbformat": 4,
 "nbformat_minor": 2
}
